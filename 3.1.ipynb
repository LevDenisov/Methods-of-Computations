{
 "cells": [
  {
   "cell_type": "markdown",
   "id": "f367c02d",
   "metadata": {},
   "source": [
    "Задача обратного интерполирования\n",
    "\n",
    "Разработчики: Денисов Лев и Дмитрий Калинин\n",
    "\n",
    "Описание задачи, которую решает программа\n",
    "Программа решает задачу обратного интерполирования. Исходные данные задаются таблично. Задача состоит в нахождении значения аргумента для заданного значения функции.\n",
    "\n",
    "Используемые численные методы\n",
    "1. Метод интерполяционного многочлена Лагранжа.\n",
    "2. Метод секущих для решения алгебраических уравнений"
   ]
  },
  {
   "cell_type": "code",
   "execution_count": 2,
   "id": "c320f31d",
   "metadata": {},
   "outputs": [],
   "source": [
    "import approximation_methods\n",
    "import math"
   ]
  },
  {
   "cell_type": "markdown",
   "id": "1d60f6f0",
   "metadata": {},
   "source": [
    "Функция get_p_l\n",
    "Вычисляет значение интерполяционного многочлена Лагранжа в точке x.\n",
    "\n",
    "Параметры:\n",
    "x: Точка, в которой нужно вычислить значение многочлена.\n",
    "key_values: Список ключевых значений (узлов интерполяции и соответствующих значений функции)."
   ]
  },
  {
   "cell_type": "code",
   "execution_count": 3,
   "id": "33309fa2",
   "metadata": {},
   "outputs": [],
   "source": [
    "def get_p_l(x, key_values):\n",
    "    return sum(math.prod([x - j[0] for j in key_values if j[0] != i]) /\n",
    "               math.prod([i - j[0] for j in key_values if j[0] != i]) * value for i, value in key_values)"
   ]
  },
  {
   "cell_type": "markdown",
   "id": "cf59bc02",
   "metadata": {},
   "source": [
    "Функция f(x)\n",
    "Определяет интерполируемую функцию."
   ]
  },
  {
   "cell_type": "code",
   "execution_count": 4,
   "id": "ec514717",
   "metadata": {},
   "outputs": [],
   "source": [
    "def f(x):\n",
    "    return 2 * math.sin(x) - x / 2"
   ]
  },
  {
   "cell_type": "markdown",
   "id": "58eba218",
   "metadata": {},
   "source": [
    "Функция creating_table(f, a, b, m1)\n",
    "Создаёт таблицу значений функции для интерполяции.\n",
    "\n",
    "Параметры:\n",
    "f: Функция для табличного представления.\n",
    "a: Начало интервала.\n",
    "b: Конец интервала.\n",
    "m1: Количество узлов интерполяции."
   ]
  },
  {
   "cell_type": "code",
   "execution_count": 5,
   "id": "686a66c6",
   "metadata": {},
   "outputs": [],
   "source": [
    "def creating_table(f, a, b, m1):\n",
    "    h = (b - a) / (m1 - 1)\n",
    "    d = {}\n",
    "    for i in range(m1):\n",
    "        x_i = a + h * i\n",
    "        d[x_i] = f(x_i)\n",
    "\n",
    "    print(\"{:<30} {:<30}\".format(\"Узел\", \"Значение функции f\"))\n",
    "    for k, v in sorted(d.items(), key=lambda x: x[0]):\n",
    "        print(\"{:<30} {:<30}\".format(k, v))\n",
    "    return d"
   ]
  },
  {
   "cell_type": "markdown",
   "id": "c30b367b",
   "metadata": {},
   "source": [
    "Функция first_method(f, n, F, initial_table)\n",
    "Реализует первый метод обратного интерполирования.\n",
    "\n",
    "Параметры:\n",
    "f: Исходная функция.\n",
    "n: Степень интерполяционного многочлена.\n",
    "F: Значение функции, для которого ищется аргумент.\n",
    "initial_table: Исходная таблица значений функции."
   ]
  },
  {
   "cell_type": "code",
   "execution_count": 6,
   "id": "427d3fa6",
   "metadata": {},
   "outputs": [],
   "source": [
    "def first_method(f, n, F, initial_table):\n",
    "    modified_table = sorted([(i[1], i[0]) for i in initial_table.items()], key=lambda z: abs(F - z[0]))[:n + 1]\n",
    "    print(\"\\nОтраженная таблица\")\n",
    "    print(\"{:<30} {:<30}\".format(\"Значение функции f\", \"Аргумент\"))\n",
    "    for k, v in modified_table:\n",
    "        print(\"{:<30} {:<30}\".format(k, v))\n",
    "    x = get_p_l(F, modified_table)\n",
    "    print(\"\\nЗначение аргумента, найденного при помощи представления в форме Лагранжа: {}\".format(x))\n",
    "    r_n = abs(f(x) - F)\n",
    "    print(\"Абсолютная величина невязки: \" + str(r_n))"
   ]
  },
  {
   "cell_type": "markdown",
   "id": "856ee0d3",
   "metadata": {},
   "source": [
    "Функция secant_method(a, b, p_n, eps)\n",
    "Метод секущих для решения уравнения p_n(x) = 0 на интервале [a, b] с точностью eps.\n",
    "\n",
    "Параметры:\n",
    "a: Начало интервала.\n",
    "b: Конец интервала.\n",
    "p_n: Функция, для которой ищется корень.\n",
    "eps: Точность вычислений."
   ]
  },
  {
   "cell_type": "code",
   "execution_count": 7,
   "id": "42233453",
   "metadata": {},
   "outputs": [],
   "source": [
    "def secant_method(a, b, f, eps, *args):\n",
    "    steps = 0\n",
    "    prev, cur = a, b\n",
    "    while abs(cur - prev) >= eps:\n",
    "        if steps > 100:\n",
    "            return -100, -1, -1\n",
    "        steps += 1\n",
    "        prev, cur = cur, cur - (f(cur) / (f(cur) - f(prev))) * (cur - prev)\n",
    "    return steps, cur, abs(cur - prev), (a, b)"
   ]
  },
  {
   "cell_type": "markdown",
   "id": "0fa27ba6",
   "metadata": {},
   "source": [
    "Функция second_method(f, a, b, n, F, eps, initial_table)\n",
    "Реализует второй метод обратного интерполирования.\n",
    "\n",
    "Параметры:\n",
    "f: Исходная функция.\n",
    "a: Начало интервала.\n",
    "b: Конец интервала.\n",
    "n: Степень интерполяционного многочлена.\n",
    "F: Значение функции, для которого ищется аргумент.\n",
    "eps: Точность вычислений.\n",
    "initial_table: Исходная таблица значений функции."
   ]
  },
  {
   "cell_type": "code",
   "execution_count": 8,
   "id": "43969a2c",
   "metadata": {},
   "outputs": [],
   "source": [
    "def second_method(f, a, b, n, F, eps, initial_table):\n",
    "    modified_table = sorted(initial_table.items(), key=lambda z: abs(F - z[1]))[:n + 1]\n",
    "    print(\"\\nОбновленная таблица\")\n",
    "    print(\"{:<30} {:<30}\".format(\"Узел\", \"Значение функции f\"))\n",
    "    for k, v in modified_table:\n",
    "        print(\"{:<30} {:<30}\".format(k, v))\n",
    "    p_n = lambda x: get_p_l(x, modified_table) - F\n",
    "    steps, approximated_x, diff, first_approximation = secant_method(a, b, p_n, eps)\n",
    "    print(\"Начальное приближение: \" + str(first_approximation))\n",
    "    if steps < 0:\n",
    "        print(\"За \" + str(abs(steps)) + \" решение с заданной точностью не было найдено\")\n",
    "        return\n",
    "    print(\"Количество шагов: \" + str(steps))\n",
    "    print(\"Приближенное решение: \" + str(approximated_x))\n",
    "    print(\"Расстояние до предыдущего приближения: \" + str(abs(diff)))\n",
    "    r_n = abs(f(approximated_x) - F)\n",
    "    print(\"Абсолютная величина невязки: \" + str(r_n))"
   ]
  },
  {
   "cell_type": "code",
   "execution_count": 10,
   "id": "79e8d5cc",
   "metadata": {},
   "outputs": [
    {
     "name": "stdout",
     "output_type": "stream",
     "text": [
      "Задача обратного интерполирования\n",
      "Вариант 8\n",
      "Условия варианта 8: f(x)=2·sin(x) – x/2\n",
      "Введите число значений в таблице (в наших обозначениях это m+1): 6\n",
      "Введите левую границу отрезка [a, b]: 0\n",
      "Введите правую границу отрезка [a, b]: 2\n",
      "\n",
      "\n",
      "Узел                           Значение функции f            \n",
      "0.0                            0.0                           \n",
      "0.4                            0.578836684617301             \n",
      "0.8                            1.0347121817990454            \n",
      "1.2000000000000002             1.2640781719344527            \n",
      "1.6                            1.1991472060830102            \n",
      "2.0                            0.8185948536513634            \n",
      "Введите степень интерполяционного многочлена n ≤ 5: 4\n",
      "Введите значение функции для обратного интерполирования: 0.85\n",
      "Введите точность y, степень точности 10 ** (-y): 8\n",
      "\n",
      " Метод первый:\n",
      "\n",
      "Отраженная таблица\n",
      "Значение функции f             Аргумент                      \n",
      "0.8185948536513634             2.0                           \n",
      "1.0347121817990454             0.8                           \n",
      "0.578836684617301              0.4                           \n",
      "1.1991472060830102             1.6                           \n",
      "1.2640781719344527             1.2000000000000002            \n",
      "\n",
      "Значение аргумента, найденного при помощи представления в форме Лагранжа: 1.6380124075181592\n",
      "Абсолютная величина невязки: 0.3264774955051052\n",
      "\n",
      " Метод второй:\n",
      "\n",
      "Обновленная таблица\n",
      "Узел                           Значение функции f            \n",
      "2.0                            0.8185948536513634            \n",
      "0.8                            1.0347121817990454            \n",
      "0.4                            0.578836684617301             \n",
      "1.6                            1.1991472060830102            \n",
      "1.2000000000000002             1.2640781719344527            \n",
      "Начальное приближение: (0.0, 2.0)\n",
      "Количество шагов: 6\n",
      "Приближенное решение: 1.9760733333907738\n",
      "Расстояние до предыдущего приближения: 9.213296792154324e-12\n",
      "Абсолютная величина невязки: 5.0234477255939325e-05\n",
      "exit\n",
      "Нажмите Enter или введите exit, чтобы завершить программу: exit\n",
      "\n",
      "\n"
     ]
    }
   ],
   "source": [
    "print(\"Задача обратного интерполирования\\nВариант 8\")\n",
    "print(\"Условия варианта 8: f(x)=2·sin(x) – x/2\")  # a=0,2  b=0,7  m+1=11  n=8\n",
    "m1 = int(input(\"Введите число значений в таблице (в наших обозначениях это m+1): \"))\n",
    "a, b = float(input(\"Введите левую границу отрезка [a, b]: \")), \\\n",
    "    float(input(\"Введите правую границу отрезка [a, b]: \"))\n",
    "print(\"\\n\")\n",
    "initial_table = creating_table(f, a, b, m1)\n",
    "com = ''\n",
    "while True:\n",
    "    if com == \"exit\":\n",
    "        break\n",
    "    n = int(input(\"Введите степень интерполяционного многочлена n ≤ {}: \".format(m1 - 1)))\n",
    "    while n >= m1:\n",
    "        print(\"Ошибка. Указано неверное значение n\")\n",
    "        n = int(input(\"Введите степень интерполяционного многочлена n ≤ {}: \".format(m1 - 1)))\n",
    "    F = float(input(\"Введите значение функции для обратного интерполирования: \"))\n",
    "    epsilon = 10 ** ((-1) * int(input(\"Введите точность y, степень точности 10 ** (-y): \")))\n",
    "    print(\"\\n Метод первый:\")\n",
    "    first_method(f, n, F, initial_table)\n",
    "    print(\"\\n Метод второй:\")\n",
    "    second_method(f, a, b, n, F, epsilon, initial_table)\n",
    "    com = input(\"Нажмите Enter или введите exit, чтобы завершить программу: \")\n",
    "    print(\"\\n\")"
   ]
  },
  {
   "cell_type": "code",
   "execution_count": null,
   "id": "5c42e048",
   "metadata": {},
   "outputs": [],
   "source": []
  },
  {
   "cell_type": "code",
   "execution_count": null,
   "id": "64f8dfd1",
   "metadata": {},
   "outputs": [],
   "source": []
  },
  {
   "cell_type": "code",
   "execution_count": null,
   "id": "ecca243c",
   "metadata": {},
   "outputs": [],
   "source": []
  },
  {
   "cell_type": "code",
   "execution_count": null,
   "id": "1be01acf",
   "metadata": {},
   "outputs": [],
   "source": []
  },
  {
   "cell_type": "code",
   "execution_count": null,
   "id": "db6d4708",
   "metadata": {},
   "outputs": [],
   "source": []
  },
  {
   "cell_type": "code",
   "execution_count": null,
   "id": "a6c8b99c",
   "metadata": {},
   "outputs": [],
   "source": []
  },
  {
   "cell_type": "code",
   "execution_count": null,
   "id": "54e23903",
   "metadata": {},
   "outputs": [],
   "source": []
  },
  {
   "cell_type": "code",
   "execution_count": null,
   "id": "d733a238",
   "metadata": {},
   "outputs": [],
   "source": []
  },
  {
   "cell_type": "code",
   "execution_count": null,
   "id": "dc1b9290",
   "metadata": {},
   "outputs": [],
   "source": []
  },
  {
   "cell_type": "code",
   "execution_count": null,
   "id": "ed6df979",
   "metadata": {},
   "outputs": [],
   "source": []
  },
  {
   "cell_type": "code",
   "execution_count": null,
   "id": "1f03a582",
   "metadata": {},
   "outputs": [],
   "source": []
  },
  {
   "cell_type": "code",
   "execution_count": null,
   "id": "9dd6c73e",
   "metadata": {},
   "outputs": [],
   "source": []
  },
  {
   "cell_type": "code",
   "execution_count": null,
   "id": "7ce7ac0a",
   "metadata": {},
   "outputs": [],
   "source": []
  },
  {
   "cell_type": "code",
   "execution_count": null,
   "id": "83a92385",
   "metadata": {},
   "outputs": [],
   "source": []
  }
 ],
 "metadata": {
  "kernelspec": {
   "display_name": "Python 3 (ipykernel)",
   "language": "python",
   "name": "python3"
  },
  "language_info": {
   "codemirror_mode": {
    "name": "ipython",
    "version": 3
   },
   "file_extension": ".py",
   "mimetype": "text/x-python",
   "name": "python",
   "nbconvert_exporter": "python",
   "pygments_lexer": "ipython3",
   "version": "3.11.5"
  }
 },
 "nbformat": 4,
 "nbformat_minor": 5
}
